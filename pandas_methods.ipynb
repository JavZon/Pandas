{
  "nbformat": 4,
  "nbformat_minor": 0,
  "metadata": {
    "colab": {
      "provenance": [],
      "gpuType": "T4",
      "authorship_tag": "ABX9TyMDafxykqcjz2nfa05Ve4Tb",
      "include_colab_link": true
    },
    "kernelspec": {
      "name": "python3",
      "display_name": "Python 3"
    },
    "language_info": {
      "name": "python"
    },
    "accelerator": "GPU"
  },
  "cells": [
    {
      "cell_type": "markdown",
      "metadata": {
        "id": "view-in-github",
        "colab_type": "text"
      },
      "source": [
        "<a href=\"https://colab.research.google.com/github/JavZon/Pandas/blob/main/pandas_methods.ipynb\" target=\"_parent\"><img src=\"https://colab.research.google.com/assets/colab-badge.svg\" alt=\"Open In Colab\"/></a>"
      ]
    },
    {
      "cell_type": "code",
      "execution_count": 1,
      "metadata": {
        "id": "TgOVOAinG7qa"
      },
      "outputs": [],
      "source": [
        "import pandas as pd\n",
        "from pandas import Series\n",
        "import numpy as np"
      ]
    },
    {
      "cell_type": "code",
      "source": [
        "arr1=np.arange(0,100,13)\n",
        "arr1"
      ],
      "metadata": {
        "colab": {
          "base_uri": "https://localhost:8080/"
        },
        "id": "u_RUq2twHZCN",
        "outputId": "11d347aa-2619-4f13-991a-098eb009140b"
      },
      "execution_count": 5,
      "outputs": [
        {
          "output_type": "execute_result",
          "data": {
            "text/plain": [
              "array([ 0, 13, 26, 39, 52, 65, 78, 91])"
            ]
          },
          "metadata": {},
          "execution_count": 5
        }
      ]
    },
    {
      "cell_type": "code",
      "source": [
        "obj=Series(arr1)"
      ],
      "metadata": {
        "id": "qyfJ7zFKHkni"
      },
      "execution_count": 6,
      "outputs": []
    },
    {
      "cell_type": "code",
      "source": [
        "obj"
      ],
      "metadata": {
        "colab": {
          "base_uri": "https://localhost:8080/"
        },
        "id": "nPdX40hpHtLS",
        "outputId": "bb52acca-6427-40df-cb60-39f45451d747"
      },
      "execution_count": 7,
      "outputs": [
        {
          "output_type": "execute_result",
          "data": {
            "text/plain": [
              "0     0\n",
              "1    13\n",
              "2    26\n",
              "3    39\n",
              "4    52\n",
              "5    65\n",
              "6    78\n",
              "7    91\n",
              "dtype: int64"
            ]
          },
          "metadata": {},
          "execution_count": 7
        }
      ]
    },
    {
      "cell_type": "code",
      "source": [
        "models=['tiger','lion','zebra','bear','deer','wolf','monkey','falcon']\n",
        "obj=Series(arr1, index=models)\n",
        "obj"
      ],
      "metadata": {
        "colab": {
          "base_uri": "https://localhost:8080/"
        },
        "id": "Mc5dcWYoHt2a",
        "outputId": "ddd1e411-3b5e-4b9d-8b74-b1e8dc1ca40a"
      },
      "execution_count": 8,
      "outputs": [
        {
          "output_type": "execute_result",
          "data": {
            "text/plain": [
              "tiger      0\n",
              "lion      13\n",
              "zebra     26\n",
              "bear      39\n",
              "deer      52\n",
              "wolf      65\n",
              "monkey    78\n",
              "falcon    91\n",
              "dtype: int64"
            ]
          },
          "metadata": {},
          "execution_count": 8
        }
      ]
    },
    {
      "cell_type": "code",
      "source": [
        "obj[['wolf','wolf']]"
      ],
      "metadata": {
        "colab": {
          "base_uri": "https://localhost:8080/"
        },
        "id": "dNGarQ7gIEtx",
        "outputId": "687f6faf-ef92-46c9-8cfe-d45c9dd98678"
      },
      "execution_count": 14,
      "outputs": [
        {
          "output_type": "execute_result",
          "data": {
            "text/plain": [
              "wolf    65\n",
              "wolf    65\n",
              "dtype: int64"
            ]
          },
          "metadata": {},
          "execution_count": 14
        }
      ]
    },
    {
      "cell_type": "code",
      "source": [
        "dict1={'horse':56,\n",
        "       'donkey':80,\n",
        "       'goat':31,\n",
        "       'cat':29,\n",
        "       'dog':65}\n",
        ""
      ],
      "metadata": {
        "id": "4141dFruIIIh"
      },
      "execution_count": 15,
      "outputs": []
    },
    {
      "cell_type": "code",
      "source": [
        "obj2=Series(dict1)\n",
        "obj2"
      ],
      "metadata": {
        "colab": {
          "base_uri": "https://localhost:8080/"
        },
        "id": "doeQKXx3Ir1K",
        "outputId": "1b5fc145-8184-4dcb-bc2b-009b674ca206"
      },
      "execution_count": 19,
      "outputs": [
        {
          "output_type": "execute_result",
          "data": {
            "text/plain": [
              "horse     56\n",
              "donkey    80\n",
              "goat      31\n",
              "cat       29\n",
              "dog       65\n",
              "dtype: int64"
            ]
          },
          "metadata": {},
          "execution_count": 19
        }
      ]
    },
    {
      "cell_type": "code",
      "source": [
        "models=['dog','cat','donkey','rat','horse','goat','dolphin']\n",
        "obj2=Series(dict1, index=models)"
      ],
      "metadata": {
        "id": "KDrZxvgHIzHB"
      },
      "execution_count": 20,
      "outputs": []
    },
    {
      "cell_type": "code",
      "source": [
        "obj2"
      ],
      "metadata": {
        "colab": {
          "base_uri": "https://localhost:8080/"
        },
        "id": "GxvKvQvmJQyC",
        "outputId": "50e99bf4-676f-4927-b70c-a2bfc1292644"
      },
      "execution_count": 21,
      "outputs": [
        {
          "output_type": "execute_result",
          "data": {
            "text/plain": [
              "dog        65.0\n",
              "cat        29.0\n",
              "donkey     80.0\n",
              "rat         NaN\n",
              "horse      56.0\n",
              "goat       31.0\n",
              "dolphin     NaN\n",
              "dtype: float64"
            ]
          },
          "metadata": {},
          "execution_count": 21
        }
      ]
    },
    {
      "cell_type": "code",
      "source": [
        "obj2['horse']"
      ],
      "metadata": {
        "colab": {
          "base_uri": "https://localhost:8080/"
        },
        "id": "1amWnMMVJRqy",
        "outputId": "6ef75497-f934-452d-f7cf-8d27c121dd79"
      },
      "execution_count": 26,
      "outputs": [
        {
          "output_type": "execute_result",
          "data": {
            "text/plain": [
              "56.0"
            ]
          },
          "metadata": {},
          "execution_count": 26
        }
      ]
    },
    {
      "cell_type": "code",
      "source": [
        "obj2[(obj2.index=='horse')|(obj2.index=='cat')]\n"
      ],
      "metadata": {
        "colab": {
          "base_uri": "https://localhost:8080/"
        },
        "id": "Fll6SVDXJe96",
        "outputId": "6cc8b480-7a54-4193-db87-8019eaf6f13c"
      },
      "execution_count": 32,
      "outputs": [
        {
          "output_type": "execute_result",
          "data": {
            "text/plain": [
              "cat      29.0\n",
              "horse    56.0\n",
              "dtype: float64"
            ]
          },
          "metadata": {},
          "execution_count": 32
        }
      ]
    },
    {
      "cell_type": "code",
      "source": [
        "mask=(obj2.index=='horse')|(obj2.index=='cat')\n",
        "mask"
      ],
      "metadata": {
        "colab": {
          "base_uri": "https://localhost:8080/"
        },
        "id": "LAZf51G-MMiD",
        "outputId": "d93b7d01-3ff2-4030-a912-5a9f928a8db2"
      },
      "execution_count": 35,
      "outputs": [
        {
          "output_type": "execute_result",
          "data": {
            "text/plain": [
              "array([False,  True, False, False,  True, False, False])"
            ]
          },
          "metadata": {},
          "execution_count": 35
        }
      ]
    },
    {
      "cell_type": "code",
      "source": [
        "obj2[mask]"
      ],
      "metadata": {
        "colab": {
          "base_uri": "https://localhost:8080/"
        },
        "id": "bKQwHSt6L39o",
        "outputId": "aaaa6422-08d4-42a4-edee-46f7de510d1e"
      },
      "execution_count": 36,
      "outputs": [
        {
          "output_type": "execute_result",
          "data": {
            "text/plain": [
              "cat      29.0\n",
              "horse    56.0\n",
              "dtype: float64"
            ]
          },
          "metadata": {},
          "execution_count": 36
        }
      ]
    },
    {
      "cell_type": "code",
      "source": [
        "obj2[obj2<35]"
      ],
      "metadata": {
        "colab": {
          "base_uri": "https://localhost:8080/"
        },
        "id": "poBV30qtMae1",
        "outputId": "1ff62054-d6ad-4285-9612-10ebd96811ee"
      },
      "execution_count": 37,
      "outputs": [
        {
          "output_type": "execute_result",
          "data": {
            "text/plain": [
              "cat     29.0\n",
              "goat    31.0\n",
              "dtype: float64"
            ]
          },
          "metadata": {},
          "execution_count": 37
        }
      ]
    },
    {
      "cell_type": "code",
      "source": [
        "import numpy as np\n",
        "data=Series([1,2,None,3,4,np.nan])\n",
        "print(data.isnull())"
      ],
      "metadata": {
        "colab": {
          "base_uri": "https://localhost:8080/"
        },
        "id": "hufoWigkMmxR",
        "outputId": "f354afc3-7f4d-48e3-b496-d5b724754e0b"
      },
      "execution_count": 38,
      "outputs": [
        {
          "output_type": "stream",
          "name": "stdout",
          "text": [
            "0    False\n",
            "1    False\n",
            "2     True\n",
            "3    False\n",
            "4    False\n",
            "5     True\n",
            "dtype: bool\n"
          ]
        }
      ]
    },
    {
      "cell_type": "code",
      "source": [
        "data2=Series([24,42,51,87,33], index=['Dog','Horse','Cat','Mouse','Goat'])\n",
        "data2"
      ],
      "metadata": {
        "colab": {
          "base_uri": "https://localhost:8080/"
        },
        "id": "V6mq-A23Ptsb",
        "outputId": "80eaff09-5a2a-4c28-c567-e48726b2f541"
      },
      "execution_count": 3,
      "outputs": [
        {
          "output_type": "execute_result",
          "data": {
            "text/plain": [
              "Dog      24\n",
              "Horse    42\n",
              "Cat      51\n",
              "Mouse    87\n",
              "Goat     33\n",
              "dtype: int64"
            ]
          },
          "metadata": {},
          "execution_count": 3
        }
      ]
    },
    {
      "cell_type": "code",
      "source": [
        "data2.name=\"Zoo\"\n",
        "data2"
      ],
      "metadata": {
        "colab": {
          "base_uri": "https://localhost:8080/"
        },
        "id": "sGnj9cqAUJRU",
        "outputId": "83958332-1ec0-47cc-e84a-a17404f8aeda"
      },
      "execution_count": 4,
      "outputs": [
        {
          "output_type": "execute_result",
          "data": {
            "text/plain": [
              "Dog      24\n",
              "Horse    42\n",
              "Cat      51\n",
              "Mouse    87\n",
              "Goat     33\n",
              "Name: Zoo, dtype: int64"
            ]
          },
          "metadata": {},
          "execution_count": 4
        }
      ]
    },
    {
      "cell_type": "code",
      "source": [
        "data2.index.name='Animals'\n",
        "data2.notnull()"
      ],
      "metadata": {
        "colab": {
          "base_uri": "https://localhost:8080/"
        },
        "id": "SM6vE9PiUTpv",
        "outputId": "9d60d615-b3fa-472f-b59b-bb10dc83cf16"
      },
      "execution_count": 9,
      "outputs": [
        {
          "output_type": "execute_result",
          "data": {
            "text/plain": [
              "Animals\n",
              "Dog      True\n",
              "Horse    True\n",
              "Cat      True\n",
              "Mouse    True\n",
              "Goat     True\n",
              "Name: Zoo, dtype: bool"
            ]
          },
          "metadata": {},
          "execution_count": 9
        }
      ]
    },
    {
      "cell_type": "code",
      "source": [
        "data2.mean()"
      ],
      "metadata": {
        "colab": {
          "base_uri": "https://localhost:8080/"
        },
        "id": "8QmvIO70UiDD",
        "outputId": "e2637641-328f-4573-c3a4-d4b612b31fbc"
      },
      "execution_count": 6,
      "outputs": [
        {
          "output_type": "execute_result",
          "data": {
            "text/plain": [
              "47.4"
            ]
          },
          "metadata": {},
          "execution_count": 6
        }
      ]
    },
    {
      "cell_type": "code",
      "source": [
        "objj=Series([1,4,6,np.nan, 90])\n",
        "objj"
      ],
      "metadata": {
        "colab": {
          "base_uri": "https://localhost:8080/"
        },
        "id": "o-YUaDKTVbPk",
        "outputId": "2c8730c9-c0fc-44ea-89cb-b72b6e13f73b"
      },
      "execution_count": 10,
      "outputs": [
        {
          "output_type": "execute_result",
          "data": {
            "text/plain": [
              "0     1.0\n",
              "1     4.0\n",
              "2     6.0\n",
              "3     NaN\n",
              "4    90.0\n",
              "dtype: float64"
            ]
          },
          "metadata": {},
          "execution_count": 10
        }
      ]
    },
    {
      "cell_type": "code",
      "source": [
        "objj.hasnans"
      ],
      "metadata": {
        "colab": {
          "base_uri": "https://localhost:8080/"
        },
        "id": "xG6YtSUW_DyQ",
        "outputId": "adce6744-4e47-4b91-f444-946cef0eddf1"
      },
      "execution_count": 12,
      "outputs": [
        {
          "output_type": "execute_result",
          "data": {
            "text/plain": [
              "True"
            ]
          },
          "metadata": {},
          "execution_count": 12
        }
      ]
    },
    {
      "cell_type": "code",
      "source": [
        "from pandas import Series\n",
        "ojj=Series([1,4,6,90])\n",
        "ojj.hasnans"
      ],
      "metadata": {
        "colab": {
          "base_uri": "https://localhost:8080/"
        },
        "id": "WegrRgkM_G13",
        "outputId": "2e8c96d3-45e0-46d1-e567-a9d3fff5ac6d"
      },
      "execution_count": 15,
      "outputs": [
        {
          "output_type": "execute_result",
          "data": {
            "text/plain": [
              "False"
            ]
          },
          "metadata": {},
          "execution_count": 15
        }
      ]
    },
    {
      "cell_type": "code",
      "source": [
        "ojj.dtype"
      ],
      "metadata": {
        "colab": {
          "base_uri": "https://localhost:8080/"
        },
        "id": "LZFjIJan_qOP",
        "outputId": "d6d7b2c7-5b38-48e7-db2f-9d60954f2d68"
      },
      "execution_count": 4,
      "outputs": [
        {
          "output_type": "execute_result",
          "data": {
            "text/plain": [
              "dtype('int64')"
            ]
          },
          "metadata": {},
          "execution_count": 4
        }
      ]
    },
    {
      "cell_type": "code",
      "source": [
        "ojj.shape"
      ],
      "metadata": {
        "colab": {
          "base_uri": "https://localhost:8080/"
        },
        "id": "egBimhyk_zQP",
        "outputId": "86a480c0-3eab-4c66-8e4d-0a0783304a9a"
      },
      "execution_count": 6,
      "outputs": [
        {
          "output_type": "execute_result",
          "data": {
            "text/plain": [
              "(4,)"
            ]
          },
          "metadata": {},
          "execution_count": 6
        }
      ]
    },
    {
      "cell_type": "code",
      "source": [
        "data=Series([10,20,30,40,50,60,70,80])\n",
        "data.unique()"
      ],
      "metadata": {
        "colab": {
          "base_uri": "https://localhost:8080/"
        },
        "id": "X6lodoaAa9DC",
        "outputId": "bb1e3d76-5d9c-4975-96f2-4e296c17cf2d"
      },
      "execution_count": 16,
      "outputs": [
        {
          "output_type": "execute_result",
          "data": {
            "text/plain": [
              "array([10, 20, 30, 40, 50, 60, 70, 80])"
            ]
          },
          "metadata": {},
          "execution_count": 16
        }
      ]
    },
    {
      "cell_type": "code",
      "source": [
        "abc=data.unique()\n",
        "data.is_unique"
      ],
      "metadata": {
        "colab": {
          "base_uri": "https://localhost:8080/"
        },
        "id": "p1e1yEfebobr",
        "outputId": "53db5ecd-0f95-49a3-9a2b-fafcfeed75ab"
      },
      "execution_count": 17,
      "outputs": [
        {
          "output_type": "execute_result",
          "data": {
            "text/plain": [
              "True"
            ]
          },
          "metadata": {},
          "execution_count": 17
        }
      ]
    },
    {
      "cell_type": "code",
      "source": [
        "data.hasnans"
      ],
      "metadata": {
        "colab": {
          "base_uri": "https://localhost:8080/"
        },
        "id": "DmBAL40abtJ6",
        "outputId": "4d1a9f30-22da-4c94-d4ed-b1522d3b61e6"
      },
      "execution_count": 18,
      "outputs": [
        {
          "output_type": "execute_result",
          "data": {
            "text/plain": [
              "False"
            ]
          },
          "metadata": {},
          "execution_count": 18
        }
      ]
    },
    {
      "cell_type": "code",
      "source": [
        "data[3]"
      ],
      "metadata": {
        "colab": {
          "base_uri": "https://localhost:8080/"
        },
        "id": "Ith6kwBlb-97",
        "outputId": "14ed425c-da16-4bbf-eb74-1503c6d9e397"
      },
      "execution_count": 12,
      "outputs": [
        {
          "output_type": "execute_result",
          "data": {
            "text/plain": [
              "40"
            ]
          },
          "metadata": {},
          "execution_count": 12
        }
      ]
    },
    {
      "cell_type": "code",
      "source": [
        "data.head(3)"
      ],
      "metadata": {
        "colab": {
          "base_uri": "https://localhost:8080/"
        },
        "id": "Dl8Co7mpcCtq",
        "outputId": "cdeec9e2-f254-4e79-83d7-ab8d3bdd9274"
      },
      "execution_count": 19,
      "outputs": [
        {
          "output_type": "execute_result",
          "data": {
            "text/plain": [
              "0    10\n",
              "1    20\n",
              "2    30\n",
              "dtype: int64"
            ]
          },
          "metadata": {},
          "execution_count": 19
        }
      ]
    },
    {
      "cell_type": "code",
      "source": [
        "data.tail(3)"
      ],
      "metadata": {
        "colab": {
          "base_uri": "https://localhost:8080/"
        },
        "id": "fVdGhQG0cKaa",
        "outputId": "455399c2-d6f2-4972-a7a5-9460aafc6f4a"
      },
      "execution_count": 20,
      "outputs": [
        {
          "output_type": "execute_result",
          "data": {
            "text/plain": [
              "5    60\n",
              "6    70\n",
              "7    80\n",
              "dtype: int64"
            ]
          },
          "metadata": {},
          "execution_count": 20
        }
      ]
    },
    {
      "cell_type": "code",
      "source": [
        "len(data)"
      ],
      "metadata": {
        "colab": {
          "base_uri": "https://localhost:8080/"
        },
        "id": "mAhAU9o3cMmr",
        "outputId": "6eb70368-6d71-4a92-c468-7af73a433730"
      },
      "execution_count": 21,
      "outputs": [
        {
          "output_type": "execute_result",
          "data": {
            "text/plain": [
              "8"
            ]
          },
          "metadata": {},
          "execution_count": 21
        }
      ]
    },
    {
      "cell_type": "code",
      "source": [
        "data"
      ],
      "metadata": {
        "colab": {
          "base_uri": "https://localhost:8080/"
        },
        "id": "uhQn3Sw5klQ8",
        "outputId": "7590d4ed-a965-4514-a968-dabff1e298c5"
      },
      "execution_count": 22,
      "outputs": [
        {
          "output_type": "execute_result",
          "data": {
            "text/plain": [
              "0    10\n",
              "1    20\n",
              "2    30\n",
              "3    40\n",
              "4    50\n",
              "5    60\n",
              "6    70\n",
              "7    80\n",
              "dtype: int64"
            ]
          },
          "metadata": {},
          "execution_count": 22
        }
      ]
    },
    {
      "cell_type": "code",
      "source": [
        "data-9"
      ],
      "metadata": {
        "colab": {
          "base_uri": "https://localhost:8080/"
        },
        "id": "ntBFY7PGmCNN",
        "outputId": "27b3b887-91e6-427f-fe7a-639de7f4cc4c"
      },
      "execution_count": 26,
      "outputs": [
        {
          "output_type": "execute_result",
          "data": {
            "text/plain": [
              "0     1\n",
              "1    11\n",
              "2    21\n",
              "3    31\n",
              "4    41\n",
              "5    51\n",
              "6    61\n",
              "7    71\n",
              "dtype: int64"
            ]
          },
          "metadata": {},
          "execution_count": 26
        }
      ]
    },
    {
      "cell_type": "code",
      "source": [
        "data.median()"
      ],
      "metadata": {
        "colab": {
          "base_uri": "https://localhost:8080/"
        },
        "id": "Ri9CE7NbmFik",
        "outputId": "36277966-49ce-48d0-ef15-a26fcfeb734c"
      },
      "execution_count": 30,
      "outputs": [
        {
          "output_type": "execute_result",
          "data": {
            "text/plain": [
              "45.0"
            ]
          },
          "metadata": {},
          "execution_count": 30
        }
      ]
    },
    {
      "cell_type": "code",
      "source": [
        "data.max()"
      ],
      "metadata": {
        "colab": {
          "base_uri": "https://localhost:8080/"
        },
        "id": "FSKC-qgpn92z",
        "outputId": "d181154e-829a-4f02-b791-6a5a21b6596a"
      },
      "execution_count": 31,
      "outputs": [
        {
          "output_type": "execute_result",
          "data": {
            "text/plain": [
              "80"
            ]
          },
          "metadata": {},
          "execution_count": 31
        }
      ]
    },
    {
      "cell_type": "code",
      "source": [
        "data.sum()"
      ],
      "metadata": {
        "colab": {
          "base_uri": "https://localhost:8080/"
        },
        "id": "P4aHKgEDoo9j",
        "outputId": "db2ee3d2-c312-47a1-8427-8a90c77badc5"
      },
      "execution_count": 33,
      "outputs": [
        {
          "output_type": "execute_result",
          "data": {
            "text/plain": [
              "360"
            ]
          },
          "metadata": {},
          "execution_count": 33
        }
      ]
    },
    {
      "cell_type": "code",
      "source": [
        "import pandas as pd\n",
        "\n",
        "data = [40, 20, 60, 80, 50]\n",
        "series = pd.Series(data, index=['A', 'B', 'C', 'D', 'E'])\n",
        "\n",
        "# Sorting the Series by values in ascending order\n",
        "sorted_by_values = series.sort_values()\n",
        "print(sorted_by_values)"
      ],
      "metadata": {
        "colab": {
          "base_uri": "https://localhost:8080/"
        },
        "id": "Ni0oui12oqn0",
        "outputId": "4df196cb-9a06-474a-aa07-4fed5c74b813"
      },
      "execution_count": 2,
      "outputs": [
        {
          "output_type": "stream",
          "name": "stdout",
          "text": [
            "B    20\n",
            "A    40\n",
            "E    50\n",
            "C    60\n",
            "D    80\n",
            "dtype: int64\n"
          ]
        }
      ]
    },
    {
      "cell_type": "code",
      "source": [
        "data=pd.Series([20,10,35,0,1], index=['w','c','f','e','a'])\n",
        "data.sort_index()"
      ],
      "metadata": {
        "colab": {
          "base_uri": "https://localhost:8080/"
        },
        "id": "icYe1Mp-i41E",
        "outputId": "e19fecd5-76ac-4300-ca1c-7df21fdb40ef"
      },
      "execution_count": 4,
      "outputs": [
        {
          "output_type": "execute_result",
          "data": {
            "text/plain": [
              "a     1\n",
              "c    10\n",
              "e     0\n",
              "f    35\n",
              "w    20\n",
              "dtype: int64"
            ]
          },
          "metadata": {},
          "execution_count": 4
        }
      ]
    },
    {
      "cell_type": "code",
      "source": [],
      "metadata": {
        "id": "X7KNGOltmD0b"
      },
      "execution_count": null,
      "outputs": []
    }
  ]
}